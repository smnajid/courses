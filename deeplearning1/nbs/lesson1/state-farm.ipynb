{
 "cells": [
  {
   "cell_type": "code",
   "execution_count": 1,
   "metadata": {
    "collapsed": false
   },
   "outputs": [
    {
     "data": {
      "text/plain": [
       "u'/home/ubuntu/fast-ai/courses/deeplearning1/nbs/lesson1'"
      ]
     },
     "execution_count": 1,
     "metadata": {},
     "output_type": "execute_result"
    }
   ],
   "source": [
    "%pwd"
   ]
  },
  {
   "cell_type": "code",
   "execution_count": 5,
   "metadata": {
    "collapsed": false
   },
   "outputs": [],
   "source": [
    "#Create references to important directories we will use over and over\n",
    "import os, sys\n",
    "current_dir = os.getcwd()\n",
    "LESSON_HOME_DIR = current_dir\n",
    "DATA_HOME_DIR = current_dir+'/data/stateFarm'"
   ]
  },
  {
   "cell_type": "code",
   "execution_count": 6,
   "metadata": {
    "collapsed": false
   },
   "outputs": [
    {
     "name": "stderr",
     "output_type": "stream",
     "text": [
      "Using Theano backend.\n"
     ]
    }
   ],
   "source": [
    "#Allow relative imports to directories above lesson1/\n",
    "sys.path.insert(1, os.path.join(sys.path[0], '..'))\n",
    "\n",
    "#import modules\n",
    "from utils import *\n",
    "from vgg16 import Vgg16\n",
    "\n",
    "#Instantiate plotting tool\n",
    "#In Jupyter notebooks, you will need to run this command before doing any plotting\n",
    "%matplotlib inline"
   ]
  },
  {
   "cell_type": "code",
   "execution_count": 7,
   "metadata": {
    "collapsed": false
   },
   "outputs": [
    {
     "name": "stdout",
     "output_type": "stream",
     "text": [
      "/home/ubuntu/fast-ai/courses/deeplearning1/nbs/lesson1/data/stateFarm\n"
     ]
    }
   ],
   "source": [
    "#Create directories\n",
    "%cd $DATA_HOME_DIR\n",
    "%mkdir valid\n",
    "%mkdir results\n",
    "%mkdir -p sample/train\n",
    "%mkdir -p sample/test\n",
    "%mkdir -p sample/valid\n",
    "%mkdir -p sample/results\n",
    "%mkdir -p test/unknown"
   ]
  },
  {
   "cell_type": "code",
   "execution_count": 35,
   "metadata": {
    "collapsed": false
   },
   "outputs": [
    {
     "name": "stdout",
     "output_type": "stream",
     "text": [
      "/home/ubuntu/fast-ai/courses/deeplearning1/nbs/lesson1/data/stateFarm/train\n"
     ]
    }
   ],
   "source": [
    "%cd $DATA_HOME_DIR/train"
   ]
  },
  {
   "cell_type": "code",
   "execution_count": 38,
   "metadata": {
    "collapsed": false
   },
   "outputs": [
    {
     "name": "stdout",
     "output_type": "stream",
     "text": [
      "/home/ubuntu/fast-ai/courses/deeplearning1/nbs/lesson1/data/stateFarm/train\n",
      "/home/ubuntu/fast-ai/courses/deeplearning1/nbs/lesson1/data/stateFarm/train/c0\n",
      "2289\n",
      "img_78627.jpg\n",
      "/home/ubuntu/fast-ai/courses/deeplearning1/nbs/lesson1/data/stateFarm/train\n",
      "/home/ubuntu/fast-ai/courses/deeplearning1/nbs/lesson1/data/stateFarm/train/c1\n",
      "2067\n",
      "img_87427.jpg\n",
      "/home/ubuntu/fast-ai/courses/deeplearning1/nbs/lesson1/data/stateFarm/train\n",
      "/home/ubuntu/fast-ai/courses/deeplearning1/nbs/lesson1/data/stateFarm/train/c2\n",
      "2117\n",
      "img_53012.jpg\n",
      "/home/ubuntu/fast-ai/courses/deeplearning1/nbs/lesson1/data/stateFarm/train\n",
      "/home/ubuntu/fast-ai/courses/deeplearning1/nbs/lesson1/data/stateFarm/train/c3\n",
      "2146\n",
      "img_24878.jpg\n",
      "/home/ubuntu/fast-ai/courses/deeplearning1/nbs/lesson1/data/stateFarm/train\n",
      "/home/ubuntu/fast-ai/courses/deeplearning1/nbs/lesson1/data/stateFarm/train/c4\n",
      "2126\n",
      "img_72226.jpg\n",
      "/home/ubuntu/fast-ai/courses/deeplearning1/nbs/lesson1/data/stateFarm/train\n",
      "/home/ubuntu/fast-ai/courses/deeplearning1/nbs/lesson1/data/stateFarm/train/c5\n",
      "2112\n",
      "img_49898.jpg\n",
      "/home/ubuntu/fast-ai/courses/deeplearning1/nbs/lesson1/data/stateFarm/train\n",
      "/home/ubuntu/fast-ai/courses/deeplearning1/nbs/lesson1/data/stateFarm/train/c6\n",
      "2125\n",
      "img_43398.jpg\n",
      "/home/ubuntu/fast-ai/courses/deeplearning1/nbs/lesson1/data/stateFarm/train\n",
      "/home/ubuntu/fast-ai/courses/deeplearning1/nbs/lesson1/data/stateFarm/train/c7\n",
      "1802\n",
      "img_54586.jpg\n",
      "/home/ubuntu/fast-ai/courses/deeplearning1/nbs/lesson1/data/stateFarm/train\n",
      "/home/ubuntu/fast-ai/courses/deeplearning1/nbs/lesson1/data/stateFarm/train/c8\n",
      "1711\n",
      "img_84689.jpg\n",
      "/home/ubuntu/fast-ai/courses/deeplearning1/nbs/lesson1/data/stateFarm/train\n",
      "/home/ubuntu/fast-ai/courses/deeplearning1/nbs/lesson1/data/stateFarm/train/c9\n",
      "1929\n",
      "img_43499.jpg\n"
     ]
    }
   ],
   "source": [
    "for i in range(10):\n",
    "    %cd $DATA_HOME_DIR/train\n",
    "    category = \"c%d/\" % i\n",
    "    %mkdir -p valid/$category\n",
    "    %cd $category\n",
    "    g = glob(\"*.jpg\")\n",
    "    shuf = np.random.permutation(g)\n",
    "    for j in range(200): os.rename( shuf[j], DATA_HOME_DIR+'/valid/' + category + shuf[j])\n",
    "    "
   ]
  },
  {
   "cell_type": "code",
   "execution_count": 39,
   "metadata": {
    "collapsed": true
   },
   "outputs": [],
   "source": [
    "from shutil import copyfile"
   ]
  },
  {
   "cell_type": "code",
   "execution_count": 45,
   "metadata": {
    "collapsed": false
   },
   "outputs": [
    {
     "name": "stdout",
     "output_type": "stream",
     "text": [
      "/home/ubuntu/fast-ai/courses/deeplearning1/nbs/lesson1/data/stateFarm/train\n",
      "/home/ubuntu/fast-ai/courses/deeplearning1/nbs/lesson1/data/stateFarm/train/c0\n",
      "/home/ubuntu/fast-ai/courses/deeplearning1/nbs/lesson1/data/stateFarm/train\n",
      "/home/ubuntu/fast-ai/courses/deeplearning1/nbs/lesson1/data/stateFarm/train/c1\n",
      "/home/ubuntu/fast-ai/courses/deeplearning1/nbs/lesson1/data/stateFarm/train\n",
      "/home/ubuntu/fast-ai/courses/deeplearning1/nbs/lesson1/data/stateFarm/train/c2\n",
      "/home/ubuntu/fast-ai/courses/deeplearning1/nbs/lesson1/data/stateFarm/train\n",
      "/home/ubuntu/fast-ai/courses/deeplearning1/nbs/lesson1/data/stateFarm/train/c3\n",
      "/home/ubuntu/fast-ai/courses/deeplearning1/nbs/lesson1/data/stateFarm/train\n",
      "/home/ubuntu/fast-ai/courses/deeplearning1/nbs/lesson1/data/stateFarm/train/c4\n",
      "/home/ubuntu/fast-ai/courses/deeplearning1/nbs/lesson1/data/stateFarm/train\n",
      "/home/ubuntu/fast-ai/courses/deeplearning1/nbs/lesson1/data/stateFarm/train/c5\n",
      "/home/ubuntu/fast-ai/courses/deeplearning1/nbs/lesson1/data/stateFarm/train\n",
      "/home/ubuntu/fast-ai/courses/deeplearning1/nbs/lesson1/data/stateFarm/train/c6\n",
      "/home/ubuntu/fast-ai/courses/deeplearning1/nbs/lesson1/data/stateFarm/train\n",
      "/home/ubuntu/fast-ai/courses/deeplearning1/nbs/lesson1/data/stateFarm/train/c7\n",
      "/home/ubuntu/fast-ai/courses/deeplearning1/nbs/lesson1/data/stateFarm/train\n",
      "/home/ubuntu/fast-ai/courses/deeplearning1/nbs/lesson1/data/stateFarm/train/c8\n",
      "/home/ubuntu/fast-ai/courses/deeplearning1/nbs/lesson1/data/stateFarm/train\n",
      "/home/ubuntu/fast-ai/courses/deeplearning1/nbs/lesson1/data/stateFarm/train/c9\n"
     ]
    }
   ],
   "source": [
    "for i in range(10):\n",
    "    %cd $DATA_HOME_DIR/train\n",
    "    category = \"c%d/\" % i\n",
    "    %mkdir -p ../sample/train/$category\n",
    "    %mkdir -p ../sample/valid/$category\n",
    "    %cd $category\n",
    "    g = glob(\"*.jpg\")\n",
    "    shuf = np.random.permutation(g)\n",
    "    for j in range(20): copyfile(shuf[j], DATA_HOME_DIR+'/sample/train/' + category + shuf[j])\n",
    "    for j in range(20,24): copyfile(shuf[j], DATA_HOME_DIR+'/sample/valid/' + category + shuf[j])"
   ]
  },
  {
   "cell_type": "code",
   "execution_count": 46,
   "metadata": {
    "collapsed": false
   },
   "outputs": [
    {
     "name": "stdout",
     "output_type": "stream",
     "text": [
      "/home/ubuntu/fast-ai/courses/deeplearning1/nbs/lesson1/data/stateFarm/test\n"
     ]
    }
   ],
   "source": [
    "# Create single 'unknown' class for test set\n",
    "%cd $DATA_HOME_DIR/test\n",
    "%mv *.jpg unknown/"
   ]
  },
  {
   "cell_type": "markdown",
   "metadata": {},
   "source": [
    "## Finetuning and Training"
   ]
  },
  {
   "cell_type": "code",
   "execution_count": 47,
   "metadata": {
    "collapsed": false
   },
   "outputs": [
    {
     "name": "stdout",
     "output_type": "stream",
     "text": [
      "/home/ubuntu/fast-ai/courses/deeplearning1/nbs/lesson1/data/stateFarm\n"
     ]
    }
   ],
   "source": [
    "%cd $DATA_HOME_DIR\n",
    "\n",
    "#Set path to sample/ path if desired\n",
    "path = DATA_HOME_DIR + '/sample' #'/sample/'\n",
    "test_path = DATA_HOME_DIR + '/test/' #We use all the test data\n",
    "results_path=DATA_HOME_DIR + '/results/'\n",
    "train_path=path + '/train/'\n",
    "valid_path=path + '/valid/'"
   ]
  },
  {
   "cell_type": "code",
   "execution_count": null,
   "metadata": {
    "collapsed": true
   },
   "outputs": [],
   "source": []
  }
 ],
 "metadata": {
  "anaconda-cloud": {},
  "kernelspec": {
   "display_name": "Python [conda root]",
   "language": "python",
   "name": "conda-root-py"
  },
  "language_info": {
   "codemirror_mode": {
    "name": "ipython",
    "version": 2
   },
   "file_extension": ".py",
   "mimetype": "text/x-python",
   "name": "python",
   "nbconvert_exporter": "python",
   "pygments_lexer": "ipython2",
   "version": "2.7.12"
  }
 },
 "nbformat": 4,
 "nbformat_minor": 1
}
